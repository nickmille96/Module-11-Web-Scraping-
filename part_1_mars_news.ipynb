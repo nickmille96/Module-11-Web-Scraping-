{
 "cells": [
  {
   "cell_type": "markdown",
   "metadata": {},
   "source": [
    "# Module 12 Challenge\n",
    "## Deliverable 1: Scrape Titles and Preview Text from Mars News"
   ]
  },
  {
   "cell_type": "code",
   "execution_count": 16,
   "metadata": {},
   "outputs": [
    {
     "name": "stdout",
     "output_type": "stream",
     "text": [
      "Requirement already satisfied: splinter[selenium4] in c:\\users\\nickm\\anaconda3\\lib\\site-packages (0.19.0)\n",
      "Requirement already satisfied: urllib3<2.0,>=1.26.14 in c:\\users\\nickm\\anaconda3\\lib\\site-packages (from splinter[selenium4]) (1.26.14)\n",
      "Requirement already satisfied: selenium<4.2.0,>=4.1.0 in c:\\users\\nickm\\anaconda3\\lib\\site-packages (from splinter[selenium4]) (4.1.5)\n",
      "Requirement already satisfied: trio~=0.17 in c:\\users\\nickm\\anaconda3\\lib\\site-packages (from selenium<4.2.0,>=4.1.0->splinter[selenium4]) (0.22.0)\n",
      "Requirement already satisfied: trio-websocket~=0.9 in c:\\users\\nickm\\anaconda3\\lib\\site-packages (from selenium<4.2.0,>=4.1.0->splinter[selenium4]) (0.10.2)\n",
      "Requirement already satisfied: sniffio in c:\\users\\nickm\\anaconda3\\lib\\site-packages (from trio~=0.17->selenium<4.2.0,>=4.1.0->splinter[selenium4]) (1.2.0)\n",
      "Requirement already satisfied: exceptiongroup>=1.0.0rc9 in c:\\users\\nickm\\anaconda3\\lib\\site-packages (from trio~=0.17->selenium<4.2.0,>=4.1.0->splinter[selenium4]) (1.1.1)\n",
      "Requirement already satisfied: outcome in c:\\users\\nickm\\anaconda3\\lib\\site-packages (from trio~=0.17->selenium<4.2.0,>=4.1.0->splinter[selenium4]) (1.2.0)\n",
      "Requirement already satisfied: sortedcontainers in c:\\users\\nickm\\anaconda3\\lib\\site-packages (from trio~=0.17->selenium<4.2.0,>=4.1.0->splinter[selenium4]) (2.4.0)\n",
      "Requirement already satisfied: attrs>=19.2.0 in c:\\users\\nickm\\anaconda3\\lib\\site-packages (from trio~=0.17->selenium<4.2.0,>=4.1.0->splinter[selenium4]) (22.1.0)\n",
      "Requirement already satisfied: async-generator>=1.9 in c:\\users\\nickm\\anaconda3\\lib\\site-packages (from trio~=0.17->selenium<4.2.0,>=4.1.0->splinter[selenium4]) (1.10)\n",
      "Requirement already satisfied: idna in c:\\users\\nickm\\anaconda3\\lib\\site-packages (from trio~=0.17->selenium<4.2.0,>=4.1.0->splinter[selenium4]) (3.4)\n",
      "Requirement already satisfied: cffi>=1.14 in c:\\users\\nickm\\anaconda3\\lib\\site-packages (from trio~=0.17->selenium<4.2.0,>=4.1.0->splinter[selenium4]) (1.15.1)\n",
      "Requirement already satisfied: wsproto>=0.14 in c:\\users\\nickm\\anaconda3\\lib\\site-packages (from trio-websocket~=0.9->selenium<4.2.0,>=4.1.0->splinter[selenium4]) (1.2.0)\n",
      "Requirement already satisfied: PySocks!=1.5.7,<2.0,>=1.5.6 in c:\\users\\nickm\\anaconda3\\lib\\site-packages (from urllib3<2.0,>=1.26.14->splinter[selenium4]) (1.7.1)\n",
      "Requirement already satisfied: cryptography>=1.3.4 in c:\\users\\nickm\\anaconda3\\lib\\site-packages (from urllib3<2.0,>=1.26.14->splinter[selenium4]) (39.0.1)\n",
      "Requirement already satisfied: urllib3-secure-extra in c:\\users\\nickm\\anaconda3\\lib\\site-packages (from urllib3<2.0,>=1.26.14->splinter[selenium4]) (0.1.0)\n",
      "Requirement already satisfied: pyOpenSSL>=0.14 in c:\\users\\nickm\\anaconda3\\lib\\site-packages (from urllib3<2.0,>=1.26.14->splinter[selenium4]) (23.0.0)\n",
      "Requirement already satisfied: certifi in c:\\users\\nickm\\anaconda3\\lib\\site-packages (from urllib3<2.0,>=1.26.14->splinter[selenium4]) (2022.12.7)\n",
      "Requirement already satisfied: pycparser in c:\\users\\nickm\\anaconda3\\lib\\site-packages (from cffi>=1.14->trio~=0.17->selenium<4.2.0,>=4.1.0->splinter[selenium4]) (2.21)\n",
      "Requirement already satisfied: h11<1,>=0.9.0 in c:\\users\\nickm\\anaconda3\\lib\\site-packages (from wsproto>=0.14->trio-websocket~=0.9->selenium<4.2.0,>=4.1.0->splinter[selenium4]) (0.14.0)\n"
     ]
    }
   ],
   "source": [
    "! pip install \"splinter[selenium4]\"\n",
    "\n"
   ]
  },
  {
   "cell_type": "code",
   "execution_count": 17,
   "metadata": {},
   "outputs": [],
   "source": [
    "# Import Splinter and BeautifulSoup\n",
    "from splinter import Browser\n",
    "from bs4 import BeautifulSoup as soup"
   ]
  },
  {
   "cell_type": "code",
   "execution_count": 18,
   "metadata": {
    "scrolled": true
   },
   "outputs": [],
   "source": [
    "browser = Browser('chrome')"
   ]
  },
  {
   "cell_type": "markdown",
   "metadata": {},
   "source": [
    "### Step 1: Visit the Website\n",
    "\n",
    "1. Use automated browsing to visit the [Mars news site](https://static.bc-edx.com/data/web/mars_news/index.html). Inspect the page to identify which elements to scrape.\n",
    "\n",
    "      > **Hint** To identify which elements to scrape, you might want to inspect the page by using Chrome DevTools."
   ]
  },
  {
   "cell_type": "code",
   "execution_count": 19,
   "metadata": {},
   "outputs": [],
   "source": [
    "# Visit the Mars news site\n",
    "url = 'https://static.bc-edx.com/data/web/mars_news/index.html'\n",
    "browser.visit(url)"
   ]
  },
  {
   "cell_type": "markdown",
   "metadata": {},
   "source": [
    "### Step 2: Scrape the Website\n",
    "\n",
    "Create a Beautiful Soup object and use it to extract text elements from the website."
   ]
  },
  {
   "cell_type": "code",
   "execution_count": 20,
   "metadata": {},
   "outputs": [],
   "source": [
    "# Create a Beautiful Soup object\n",
    "html= browser.html\n",
    "\n",
    "soupobj= soup(html, \"html.parser\")"
   ]
  },
  {
   "cell_type": "code",
   "execution_count": 25,
   "metadata": {},
   "outputs": [],
   "source": [
    "# Extract all the text elements\n",
    "texts= soupobj.find_all(\"div\", \"content_title\")\n",
    "previews= soupobj.find_all(\"div\", \"article_teaser_body\")"
   ]
  },
  {
   "cell_type": "markdown",
   "metadata": {},
   "source": [
    "### Step 3: Store the Results\n",
    "\n",
    "Extract the titles and preview text of the news articles that you scraped. Store the scraping results in Python data structures as follows:\n",
    "\n",
    "* Store each title-and-preview pair in a Python dictionary. And, give each dictionary two keys: `title` and `preview`. An example is the following:\n",
    "\n",
    "  ```python\n",
    "  {'title': \"NASA's MAVEN Observes Martian Light Show Caused by Major Solar Storm\", \n",
    "   'preview': \"For the first time in its eight years orbiting Mars, NASA’s MAVEN mission witnessed two different types of ultraviolet aurorae simultaneously, the result of solar storms that began on Aug. 27.\"\n",
    "  }\n",
    "  ```\n",
    "\n",
    "* Store all the dictionaries in a Python list.\n",
    "\n",
    "* Print the list in your notebook."
   ]
  },
  {
   "cell_type": "code",
   "execution_count": 26,
   "metadata": {},
   "outputs": [],
   "source": [
    "# Create an empty list to store the dictionaries\n",
    "listed_text=[]"
   ]
  },
  {
   "cell_type": "code",
   "execution_count": 27,
   "metadata": {},
   "outputs": [],
   "source": [
    "# Loop through the text elements\n",
    "for texts, previews in zip(texts,previews):\n",
    "# Extract the title and preview text from the elements\n",
    "    title = texts.get_text()\n",
    "    previewtext= previews.get_text()\n",
    "# Store each title and preview pair in a dictionary\n",
    "    dictionary = {\"title\": title, \"preview\": previewtext}\n",
    "# Add the dictionary to the list\n",
    "    listed_text.append(dictionary)"
   ]
  },
  {
   "cell_type": "code",
   "execution_count": 28,
   "metadata": {},
   "outputs": [
    {
     "data": {
      "text/plain": [
       "[{'title': \"NASA's MAVEN Observes Martian Light Show Caused by Major Solar Storm\",\n",
       "  'preview': 'For the first time in its eight years orbiting Mars, NASA’s MAVEN mission witnessed two different types of ultraviolet aurorae simultaneously, the result of solar storms that began on Aug. 27.'},\n",
       " {'title': \"NASA Prepares to Say 'Farewell' to InSight Spacecraft\",\n",
       "  'preview': 'A closer look at what goes into wrapping up the mission as the spacecraft’s power supply continues to dwindle.'},\n",
       " {'title': 'NASA and ESA Agree on Next Steps to Return Mars Samples to Earth',\n",
       "  'preview': 'The agency’s Perseverance rover will establish the first sample depot on Mars.'},\n",
       " {'title': \"NASA's InSight Lander Detects Stunning Meteoroid Impact on Mars\",\n",
       "  'preview': 'The agency’s lander felt the ground shake during the impact while cameras aboard the Mars Reconnaissance Orbiter spotted the yawning new crater from space.'},\n",
       " {'title': 'NASA To Host Briefing on InSight, Mars Reconnaissance Orbiter Findings',\n",
       "  'preview': 'Scientists from two Mars missions will discuss how they combined images and data for a major finding on the Red Planet.'},\n",
       " {'title': 'Why NASA Is Trying To Crash Land on Mars',\n",
       "  'preview': 'Like a car’s crumple zone, the experimental SHIELD lander is designed to absorb a hard impact.'},\n",
       " {'title': 'Curiosity Mars Rover Reaches Long-Awaited Salty Region',\n",
       "  'preview': 'After years of climbing, the Mars rover has arrived at a special region believed to have formed as Mars’ climate was drying.'},\n",
       " {'title': 'Mars Mission Shields Up for Tests',\n",
       "  'preview': 'Protecting Mars Sample Return spacecraft from micrometeorites requires high-caliber work.'},\n",
       " {'title': \"NASA's InSight Waits Out Dust Storm\",\n",
       "  'preview': 'InSight’s team is taking steps to help the solar-powered lander continue operating for as long as possible.'},\n",
       " {'title': \"NASA's InSight 'Hears' Its First Meteoroid Impacts on Mars\",\n",
       "  'preview': 'The Mars lander’s seismometer has picked up vibrations from four separate impacts in the past two years.'},\n",
       " {'title': \"NASA's Perseverance Rover Investigates Geologically Rich Mars Terrain\",\n",
       "  'preview': 'The latest findings provide greater detail on a region of the Red Planet that has a watery past and is yielding promising samples for the NASA-ESA Mars Sample Return campaign.'},\n",
       " {'title': 'NASA to Host Briefing on Perseverance Mars Rover Mission Operations',\n",
       "  'preview': 'Members of the mission will discuss the rover’s activities as it gathers samples in an ancient river delta.'},\n",
       " {'title': \"NASA's Perseverance Makes New Discoveries in Mars' Jezero Crater\",\n",
       "  'preview': 'The rover found that Jezero Crater’s floor is made up of volcanic rocks that have interacted with water.'},\n",
       " {'title': \"10 Years Since Landing, NASA's Curiosity Mars Rover Still Has Drive\",\n",
       "  'preview': 'Despite signs of wear, the intrepid spacecraft is about to start an exciting new chapter of its mission as it climbs a Martian mountain.'},\n",
       " {'title': \"SAM's Top 5 Discoveries Aboard NASA's Curiosity Rover at Mars\",\n",
       "  'preview': '“Selfie” of the Curiosity rover with inset showing the SAM instrument prior to installation on the rover.'}]"
      ]
     },
     "execution_count": 28,
     "metadata": {},
     "output_type": "execute_result"
    }
   ],
   "source": [
    "# Print the list to confirm success\n",
    "listed_text"
   ]
  },
  {
   "cell_type": "code",
   "execution_count": 11,
   "metadata": {},
   "outputs": [],
   "source": [
    "browser.quit()"
   ]
  },
  {
   "cell_type": "code",
   "execution_count": null,
   "metadata": {},
   "outputs": [],
   "source": []
  },
  {
   "cell_type": "code",
   "execution_count": null,
   "metadata": {},
   "outputs": [],
   "source": []
  }
 ],
 "metadata": {
  "kernelspec": {
   "display_name": "Python 3 (ipykernel)",
   "language": "python",
   "name": "python3"
  },
  "language_info": {
   "codemirror_mode": {
    "name": "ipython",
    "version": 3
   },
   "file_extension": ".py",
   "mimetype": "text/x-python",
   "name": "python",
   "nbconvert_exporter": "python",
   "pygments_lexer": "ipython3",
   "version": "3.9.16"
  },
  "vscode": {
   "interpreter": {
    "hash": "31f2aee4e71d21fbe5cf8b01ff0e069b9275f58929596ceb00d14d90e3e16cd6"
   }
  }
 },
 "nbformat": 4,
 "nbformat_minor": 4
}
